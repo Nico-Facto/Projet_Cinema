{
 "cells": [
  {
   "cell_type": "code",
   "execution_count": 1,
   "metadata": {},
   "outputs": [
    {
     "data": {
      "application/javascript": [
       "IPython.notebook.set_autosave_interval(0)"
      ]
     },
     "metadata": {},
     "output_type": "display_data"
    },
    {
     "name": "stdout",
     "output_type": "stream",
     "text": [
      "Autosave disabled\n"
     ]
    }
   ],
   "source": [
    "%autosave 0\n",
    "from biglearn import createNewPred as CP\n",
    "from biglearn import analyserML as ML\n",
    "from alys import regression as alysCL\n",
    "from alys import  save as SV\n",
    "from graph import rViz \n",
    "\n",
    "from pandas import read_csv\n",
    "import pandas\n",
    "import numpy as np\n",
    "import matplotlib.pyplot as plt\n",
    "import sys\n",
    "import os\n",
    "import csv\n",
    "import datetime\n",
    "\n",
    "# ignore Warning\n",
    "import warnings\n",
    "warnings.filterwarnings(\"ignore\")"
   ]
  },
  {
   "cell_type": "markdown",
   "metadata": {},
   "source": [
    "#   Prediction Janvier 2020\n"
   ]
  },
  {
   "cell_type": "code",
   "execution_count": 2,
   "metadata": {},
   "outputs": [
    {
     "name": "stdout",
     "output_type": "stream",
     "text": [
      "Nom du fichier full Prod : inc_movies_janv.csv\n",
      "Modèle id : model/5e09292b3514cd286f01ece4\n",
      "Types de Modèle  : model\n",
      "Nom du fichier exporté : suivi_mod_janv.csv\n",
      "fichier ok\n",
      "predict-lancée\n",
      "prediction ok\n"
     ]
    }
   ],
   "source": [
    "CP.predOnProdSet()"
   ]
  },
  {
   "cell_type": "markdown",
   "metadata": {},
   "source": [
    "# Janvier 2020"
   ]
  },
  {
   "cell_type": "code",
   "execution_count": 3,
   "metadata": {},
   "outputs": [
    {
     "name": "stdout",
     "output_type": "stream",
     "text": [
      "nom colonne prediction : pred\n",
      "nom colonne output : target\n",
      "MAPE =  14.73\n"
     ]
    },
    {
     "data": {
      "text/html": [
       "<div>\n",
       "<style scoped>\n",
       "    .dataframe tbody tr th:only-of-type {\n",
       "        vertical-align: middle;\n",
       "    }\n",
       "\n",
       "    .dataframe tbody tr th {\n",
       "        vertical-align: top;\n",
       "    }\n",
       "\n",
       "    .dataframe thead th {\n",
       "        text-align: right;\n",
       "    }\n",
       "</style>\n",
       "<table border=\"1\" class=\"dataframe\">\n",
       "  <thead>\n",
       "    <tr style=\"text-align: right;\">\n",
       "      <th></th>\n",
       "      <th>imdb_id</th>\n",
       "      <th>title</th>\n",
       "      <th>target</th>\n",
       "      <th>pred</th>\n",
       "      <th>pourcerror</th>\n",
       "      <th>errorabs</th>\n",
       "      <th>mape</th>\n",
       "      <th>RMSE</th>\n",
       "    </tr>\n",
       "  </thead>\n",
       "  <tbody>\n",
       "    <tr>\n",
       "      <td>0</td>\n",
       "      <td>tt5706370</td>\n",
       "      <td>Three Christs</td>\n",
       "      <td>5.6</td>\n",
       "      <td>5.66</td>\n",
       "      <td>0.010714</td>\n",
       "      <td>0.01</td>\n",
       "      <td>14.73</td>\n",
       "      <td>1.008828</td>\n",
       "    </tr>\n",
       "    <tr>\n",
       "      <td>1</td>\n",
       "      <td>tt3612126</td>\n",
       "      <td>The Grudge</td>\n",
       "      <td>4.1</td>\n",
       "      <td>5.96</td>\n",
       "      <td>0.453659</td>\n",
       "      <td>0.45</td>\n",
       "      <td>NaN</td>\n",
       "      <td>NaN</td>\n",
       "    </tr>\n",
       "    <tr>\n",
       "      <td>2</td>\n",
       "      <td>tt5774060</td>\n",
       "      <td>Underwater</td>\n",
       "      <td>6.2</td>\n",
       "      <td>5.56</td>\n",
       "      <td>-0.103226</td>\n",
       "      <td>0.10</td>\n",
       "      <td>NaN</td>\n",
       "      <td>NaN</td>\n",
       "    </tr>\n",
       "    <tr>\n",
       "      <td>3</td>\n",
       "      <td>tt4916630</td>\n",
       "      <td>La Voie de la Justice</td>\n",
       "      <td>6.9</td>\n",
       "      <td>7.32</td>\n",
       "      <td>0.060870</td>\n",
       "      <td>0.06</td>\n",
       "      <td>NaN</td>\n",
       "      <td>NaN</td>\n",
       "    </tr>\n",
       "    <tr>\n",
       "      <td>4</td>\n",
       "      <td>tt7545266</td>\n",
       "      <td>Like a Boss</td>\n",
       "      <td>4.1</td>\n",
       "      <td>5.28</td>\n",
       "      <td>0.287805</td>\n",
       "      <td>0.29</td>\n",
       "      <td>NaN</td>\n",
       "      <td>NaN</td>\n",
       "    </tr>\n",
       "    <tr>\n",
       "      <td>5</td>\n",
       "      <td>tt1833116</td>\n",
       "      <td>The Informer</td>\n",
       "      <td>6.5</td>\n",
       "      <td>6.91</td>\n",
       "      <td>0.063077</td>\n",
       "      <td>0.06</td>\n",
       "      <td>NaN</td>\n",
       "      <td>NaN</td>\n",
       "    </tr>\n",
       "    <tr>\n",
       "      <td>6</td>\n",
       "      <td>tt9614460</td>\n",
       "      <td>Chhapaak</td>\n",
       "      <td>4.6</td>\n",
       "      <td>6.29</td>\n",
       "      <td>0.367391</td>\n",
       "      <td>0.37</td>\n",
       "      <td>NaN</td>\n",
       "      <td>NaN</td>\n",
       "    </tr>\n",
       "    <tr>\n",
       "      <td>7</td>\n",
       "      <td>tt6673612</td>\n",
       "      <td>Le voyage du Dr Dolittle</td>\n",
       "      <td>6.5</td>\n",
       "      <td>6.29</td>\n",
       "      <td>-0.032308</td>\n",
       "      <td>0.03</td>\n",
       "      <td>NaN</td>\n",
       "      <td>NaN</td>\n",
       "    </tr>\n",
       "    <tr>\n",
       "      <td>8</td>\n",
       "      <td>tt1502397</td>\n",
       "      <td>Bad Boys for Life</td>\n",
       "      <td>7.2</td>\n",
       "      <td>6.45</td>\n",
       "      <td>-0.104167</td>\n",
       "      <td>0.10</td>\n",
       "      <td>NaN</td>\n",
       "      <td>NaN</td>\n",
       "    </tr>\n",
       "    <tr>\n",
       "      <td>9</td>\n",
       "      <td>tt9426210</td>\n",
       "      <td>Les enfants du temps: Weathering with You</td>\n",
       "      <td>7.8</td>\n",
       "      <td>6.91</td>\n",
       "      <td>-0.114103</td>\n",
       "      <td>0.11</td>\n",
       "      <td>NaN</td>\n",
       "      <td>NaN</td>\n",
       "    </tr>\n",
       "    <tr>\n",
       "      <td>10</td>\n",
       "      <td>tt8367814</td>\n",
       "      <td>The Gentlemen</td>\n",
       "      <td>8.1</td>\n",
       "      <td>6.45</td>\n",
       "      <td>-0.203704</td>\n",
       "      <td>0.20</td>\n",
       "      <td>NaN</td>\n",
       "      <td>NaN</td>\n",
       "    </tr>\n",
       "    <tr>\n",
       "      <td>11</td>\n",
       "      <td>tt5073642</td>\n",
       "      <td>Color Out of Space</td>\n",
       "      <td>6.4</td>\n",
       "      <td>6.29</td>\n",
       "      <td>-0.017188</td>\n",
       "      <td>0.02</td>\n",
       "      <td>NaN</td>\n",
       "      <td>NaN</td>\n",
       "    </tr>\n",
       "    <tr>\n",
       "      <td>12</td>\n",
       "      <td>tt0783640</td>\n",
       "      <td>The Last Full Measure</td>\n",
       "      <td>7.9</td>\n",
       "      <td>6.67</td>\n",
       "      <td>-0.155696</td>\n",
       "      <td>0.16</td>\n",
       "      <td>NaN</td>\n",
       "      <td>NaN</td>\n",
       "    </tr>\n",
       "    <tr>\n",
       "      <td>14</td>\n",
       "      <td>tt9000224</td>\n",
       "      <td>The Assistant</td>\n",
       "      <td>5.4</td>\n",
       "      <td>6.38</td>\n",
       "      <td>0.181481</td>\n",
       "      <td>0.18</td>\n",
       "      <td>NaN</td>\n",
       "      <td>NaN</td>\n",
       "    </tr>\n",
       "    <tr>\n",
       "      <td>17</td>\n",
       "      <td>tt11281142</td>\n",
       "      <td>SOL</td>\n",
       "      <td>6.7</td>\n",
       "      <td>6.26</td>\n",
       "      <td>-0.065672</td>\n",
       "      <td>0.07</td>\n",
       "      <td>NaN</td>\n",
       "      <td>NaN</td>\n",
       "    </tr>\n",
       "  </tbody>\n",
       "</table>\n",
       "</div>"
      ],
      "text/plain": [
       "       imdb_id                                      title  target  pred  \\\n",
       "0    tt5706370                              Three Christs     5.6  5.66   \n",
       "1    tt3612126                                 The Grudge     4.1  5.96   \n",
       "2    tt5774060                                 Underwater     6.2  5.56   \n",
       "3    tt4916630                      La Voie de la Justice     6.9  7.32   \n",
       "4    tt7545266                                Like a Boss     4.1  5.28   \n",
       "5    tt1833116                               The Informer     6.5  6.91   \n",
       "6    tt9614460                                   Chhapaak     4.6  6.29   \n",
       "7    tt6673612                   Le voyage du Dr Dolittle     6.5  6.29   \n",
       "8    tt1502397                          Bad Boys for Life     7.2  6.45   \n",
       "9    tt9426210  Les enfants du temps: Weathering with You     7.8  6.91   \n",
       "10   tt8367814                              The Gentlemen     8.1  6.45   \n",
       "11   tt5073642                         Color Out of Space     6.4  6.29   \n",
       "12   tt0783640                      The Last Full Measure     7.9  6.67   \n",
       "14   tt9000224                              The Assistant     5.4  6.38   \n",
       "17  tt11281142                                        SOL     6.7  6.26   \n",
       "\n",
       "    pourcerror  errorabs   mape      RMSE  \n",
       "0     0.010714      0.01  14.73  1.008828  \n",
       "1     0.453659      0.45    NaN       NaN  \n",
       "2    -0.103226      0.10    NaN       NaN  \n",
       "3     0.060870      0.06    NaN       NaN  \n",
       "4     0.287805      0.29    NaN       NaN  \n",
       "5     0.063077      0.06    NaN       NaN  \n",
       "6     0.367391      0.37    NaN       NaN  \n",
       "7    -0.032308      0.03    NaN       NaN  \n",
       "8    -0.104167      0.10    NaN       NaN  \n",
       "9    -0.114103      0.11    NaN       NaN  \n",
       "10   -0.203704      0.20    NaN       NaN  \n",
       "11   -0.017188      0.02    NaN       NaN  \n",
       "12   -0.155696      0.16    NaN       NaN  \n",
       "14    0.181481      0.18    NaN       NaN  \n",
       "17   -0.065672      0.07    NaN       NaN  "
      ]
     },
     "execution_count": 3,
     "metadata": {},
     "output_type": "execute_result"
    }
   ],
   "source": [
    "df_pred = read_csv(\"Pred_Files/suivi_mod_janv.csv\")\n",
    "df_ann = read_csv('Rapport/suivi_pres.csv')\n",
    "\n",
    "def Follow() :\n",
    "    # creation d'un df temporaire pour plus de lisibilité\n",
    "    df_temp = pandas.DataFrame()\n",
    "    col = ('imdb_id','title','target')\n",
    "    \n",
    "    for i in col :\n",
    "        df_temp[i] = df_ann[i]\n",
    "    df_temp['pred'] = df_pred['pred']\n",
    "\n",
    "    # je supprime de l'analyse les films qui ont pas encore de notes    \n",
    "    ro = 0    \n",
    "    for i in df_temp['target']:\n",
    "        if i == 0 :\n",
    "            df_temp = df_temp.drop(ro)\n",
    "        ro +=1        \n",
    "    \n",
    "    df_temp['pred'] =  round(df_temp['pred'],2)  \n",
    "    \n",
    "    # fonction pour une analyse des erreurs\n",
    "    alysCL.regr(df_temp)\n",
    "    return df_temp\n",
    "    \n",
    "    \n",
    "board = Follow()\n",
    "board"
   ]
  },
  {
   "cell_type": "code",
   "execution_count": 4,
   "metadata": {},
   "outputs": [
    {
     "name": "stdout",
     "output_type": "stream",
     "text": [
      "15-Jan : mape =  14.73 ---- 15/17 films\n"
     ]
    }
   ],
   "source": [
    "sh = board.shape[0]\n",
    "ma = board.loc[0,'mape']\n",
    "dt = datetime.datetime.now()\n",
    "d_t = dt.strftime(\"%d\")\n",
    "m_t = dt.strftime(\"%b\")\n",
    "\n",
    "print(f\"{d_t}-{m_t} : mape =  {ma} ---- {sh}/17 films\")  "
   ]
  },
  {
   "cell_type": "raw",
   "metadata": {},
   "source": [
    "15-Jan : mape =  14.73 ---- 15/17 films\n",
    "07-Jan : mape =  15.4 ---- 10/17 films\n",
    "02-Jan : mape =  12.11 ---- 9/17 films"
   ]
  },
  {
   "cell_type": "code",
   "execution_count": 5,
   "metadata": {},
   "outputs": [
    {
     "name": "stdout",
     "output_type": "stream",
     "text": [
      "valeur du seuil :0.1\n",
      "il y'a 6 erreurs inférieurs à 0.1, il y'a 9 erreurs supérieurs à 0.1\n",
      "erreur sous seuil = 40.0%\n",
      "valeur du seuil :0.2\n",
      "il y'a 11 erreurs inférieurs à 0.2, il y'a 4 erreurs supérieurs à 0.2\n",
      "erreur sous seuil = 73.3333%\n"
     ]
    },
    {
     "data": {
      "text/plain": [
       "73.3333"
      ]
     },
     "execution_count": 5,
     "metadata": {},
     "output_type": "execute_result"
    }
   ],
   "source": [
    "alysCL.seuil_vs_error(board)\n",
    "alysCL.seuil_vs_error(board)"
   ]
  },
  {
   "cell_type": "code",
   "execution_count": null,
   "metadata": {},
   "outputs": [],
   "source": []
  }
 ],
 "metadata": {
  "kernelspec": {
   "display_name": "Python 3",
   "language": "python",
   "name": "python3"
  },
  "language_info": {
   "codemirror_mode": {
    "name": "ipython",
    "version": 3
   },
   "file_extension": ".py",
   "mimetype": "text/x-python",
   "name": "python",
   "nbconvert_exporter": "python",
   "pygments_lexer": "ipython3",
   "version": "3.7.3"
  },
  "nbTranslate": {
   "displayLangs": [
    "*"
   ],
   "hotkey": "alt-t",
   "langInMainMenu": true,
   "sourceLang": "fr",
   "targetLang": "en",
   "useGoogleTranslate": true
  },
  "varInspector": {
   "cols": {
    "lenName": 16,
    "lenType": 16,
    "lenVar": 40
   },
   "kernels_config": {
    "python": {
     "delete_cmd_postfix": "",
     "delete_cmd_prefix": "del ",
     "library": "var_list.py",
     "varRefreshCmd": "print(var_dic_list())"
    },
    "r": {
     "delete_cmd_postfix": ") ",
     "delete_cmd_prefix": "rm(",
     "library": "var_list.r",
     "varRefreshCmd": "cat(var_dic_list()) "
    }
   },
   "types_to_exclude": [
    "module",
    "function",
    "builtin_function_or_method",
    "instance",
    "_Feature"
   ],
   "window_display": false
  }
 },
 "nbformat": 4,
 "nbformat_minor": 2
}
